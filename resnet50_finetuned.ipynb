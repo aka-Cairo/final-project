{
 "cells": [
  {
   "cell_type": "markdown",
   "metadata": {},
   "source": [
    "##You will need a CUDA enabled GPU installed to run this code##"
   ]
  },
  {
   "cell_type": "code",
   "execution_count": 1,
   "metadata": {},
   "outputs": [],
   "source": [
    "import pandas as pd\n",
    "from sklearn.model_selection import train_test_split\n",
    "import os\n",
    "import ast  # For safely evaluating string representations\n",
    "\n",
    "# Load the CSV file\n",
    "labels_df = pd.read_csv('encoded_labels.csv')\n",
    "\n",
    "# Columns in your CSV\n",
    "file_column = 'index'  # Replace with your actual filename column name\n",
    "label_column = 'labels'   # Replace with your actual labels column name\n",
    "\n",
    "# Directory where your images are stored\n",
    "image_directory = './images/'  # Ensure this path ends with a '/'\n",
    "\n",
    "# Function to convert string representation to list of integers\n",
    "def parse_labels(label_str):\n",
    "    # Replace spaces with commas to create a valid Python list string\n",
    "    label_str = label_str.replace(' ', ',')\n",
    "    # Use ast.literal_eval to safely evaluate the string to a list\n",
    "    return list(map(int, ast.literal_eval(label_str)))\n",
    "\n",
    "# Create full paths to images and parse labels\n",
    "image_paths = [os.path.join(image_directory, fname) for fname in labels_df[file_column]]\n",
    "labels = [parse_labels(label) for label in labels_df[label_column]]\n",
    "\n",
    "# Split the dataset into training and validation sets\n",
    "train_image_paths, val_image_paths, train_labels, val_labels = train_test_split(\n",
    "    image_paths,\n",
    "    labels,\n",
    "    test_size=0.2,  # 20% for validation\n",
    "    random_state=42\n",
    ")\n"
   ]
  },
  {
   "cell_type": "code",
   "execution_count": 2,
   "metadata": {},
   "outputs": [],
   "source": [
    "from torch.utils.data import Dataset, DataLoader\n",
    "from torchvision import transforms\n",
    "from PIL import Image\n",
    "import torch\n",
    "\n",
    "# Define transformations for preprocessing\n",
    "transform = transforms.Compose([\n",
    "    transforms.Resize((224, 224)),  # Resize to match ResNet-50 input size\n",
    "    transforms.ToTensor(),          # Convert image to tensor\n",
    "    transforms.Normalize(mean=[0.485, 0.456, 0.406], std=[0.229, 0.224, 0.225])  # Normalize with pre-trained model stats\n",
    "])\n",
    "\n",
    "# Define the dataset class\n",
    "class CustomDataset(Dataset):\n",
    "    def __init__(self, image_paths, labels, transform=None):\n",
    "        self.image_paths = image_paths\n",
    "        self.labels = labels\n",
    "        self.transform = transform\n",
    "\n",
    "    def __len__(self):\n",
    "        return len(self.image_paths)\n",
    "\n",
    "    def __getitem__(self, idx):\n",
    "        img = Image.open(self.image_paths[idx]).convert('RGB')\n",
    "        label = self.labels[idx]\n",
    "        if self.transform:\n",
    "            img = self.transform(img)\n",
    "        return img, torch.tensor(label, dtype=torch.float)  # Convert list to tensor\n",
    "\n",
    "# Create datasets\n",
    "train_dataset = CustomDataset(image_paths=train_image_paths, labels=train_labels, transform=transform)\n",
    "val_dataset = CustomDataset(image_paths=val_image_paths, labels=val_labels, transform=transform)\n",
    "\n",
    "# Create data loaders\n",
    "train_loader = DataLoader(train_dataset, batch_size=32, shuffle=True)\n",
    "val_loader = DataLoader(val_dataset, batch_size=32, shuffle=False)\n"
   ]
  },
  {
   "cell_type": "code",
   "execution_count": 3,
   "metadata": {},
   "outputs": [
    {
     "name": "stderr",
     "output_type": "stream",
     "text": [
      "c:\\Users\\Matt\\anaconda3\\envs\\final_project\\Lib\\site-packages\\torchvision\\models\\_utils.py:208: UserWarning: The parameter 'pretrained' is deprecated since 0.13 and may be removed in the future, please use 'weights' instead.\n",
      "  warnings.warn(\n",
      "c:\\Users\\Matt\\anaconda3\\envs\\final_project\\Lib\\site-packages\\torchvision\\models\\_utils.py:223: UserWarning: Arguments other than a weight enum or `None` for 'weights' are deprecated since 0.13 and may be removed in the future. The current behavior is equivalent to passing `weights=ResNet50_Weights.IMAGENET1K_V1`. You can also use `weights=ResNet50_Weights.DEFAULT` to get the most up-to-date weights.\n",
      "  warnings.warn(msg)\n"
     ]
    }
   ],
   "source": [
    "import torchvision.models as models\n",
    "import torch.nn as nn\n",
    "\n",
    "# Load a pre-trained ResNet-50 model\n",
    "model = models.resnet50(pretrained=True)\n",
    "\n",
    "# Modify the final fully connected layer for 14 classes\n",
    "num_classes = 14\n",
    "model.fc = nn.Linear(model.fc.in_features, num_classes)\n"
   ]
  },
  {
   "cell_type": "code",
   "execution_count": 4,
   "metadata": {},
   "outputs": [
    {
     "name": "stdout",
     "output_type": "stream",
     "text": [
      "Epoch 1, Loss: 0.18481914825895998\n",
      "Epoch 2, Loss: 0.17457938727968975\n",
      "Epoch 3, Loss: 0.17181613544623056\n",
      "Epoch 4, Loss: 0.1712415711359775\n",
      "Epoch 5, Loss: 0.1686299256716214\n",
      "Epoch 6, Loss: 0.16638082778411553\n",
      "Epoch 7, Loss: 0.16483126342930693\n",
      "Epoch 8, Loss: 0.16331722555642433\n",
      "Epoch 9, Loss: 0.16042521199647417\n",
      "Epoch 10, Loss: 0.15734446989306322\n"
     ]
    }
   ],
   "source": [
    "import torch.optim as optim\n",
    "\n",
    "# Define loss function and optimizer\n",
    "criterion = nn.BCEWithLogitsLoss()  # For multi-label classification\n",
    "optimizer = optim.Adam(model.parameters(), lr=0.001)\n",
    "\n",
    "# Set the model to training mode\n",
    "model.train()\n",
    "\n",
    "num_epochs = 10  # Adjust the number of epochs as needed\n",
    "\n",
    "device = torch.device('cuda' if torch.cuda.is_available() else 'cpu')\n",
    "model.to(device)\n",
    "\n",
    "for epoch in range(num_epochs):\n",
    "    model.train()\n",
    "    running_loss = 0.0\n",
    "    for images, labels in train_loader:\n",
    "        images, labels = images.to(device), labels.to(device)  # Move data to GPU\n",
    "        optimizer.zero_grad()\n",
    "        outputs = model(images)\n",
    "        loss = criterion(outputs, labels)\n",
    "        loss.backward()\n",
    "        optimizer.step()\n",
    "        running_loss += loss.item()\n",
    "    print(f'Epoch {epoch+1}, Loss: {running_loss/len(train_loader)}')\n"
   ]
  },
  {
   "cell_type": "code",
   "execution_count": 5,
   "metadata": {},
   "outputs": [
    {
     "name": "stdout",
     "output_type": "stream",
     "text": [
      "Validation Accuracy: 51.60427807486631%\n"
     ]
    }
   ],
   "source": [
    "model.eval()\n",
    "correct = 0\n",
    "total = 0\n",
    "with torch.no_grad():\n",
    "    for images, labels in val_loader:\n",
    "        images, labels = images.to(device), labels.to(device)  # Move data to GPU\n",
    "        outputs = model(images)\n",
    "        predictions = torch.sigmoid(outputs)  # Apply sigmoid to get probabilities\n",
    "        \n",
    "        # Convert probabilities to binary predictions\n",
    "        predicted_labels = (predictions > 0.5).float()\n",
    "        \n",
    "        # Calculate accuracy for each image\n",
    "        correct += (predicted_labels == labels).all(dim=1).sum().item()\n",
    "        total += labels.size(0)\n",
    "\n",
    "print(f'Validation Accuracy: {100 * correct / total}%')"
   ]
  },
  {
   "cell_type": "code",
   "execution_count": 6,
   "metadata": {},
   "outputs": [],
   "source": [
    "torch.save(model.state_dict(), 'resnet50_finetuned.pth')\n"
   ]
  },
  {
   "cell_type": "code",
   "execution_count": null,
   "metadata": {},
   "outputs": [],
   "source": []
  },
  {
   "cell_type": "code",
   "execution_count": null,
   "metadata": {},
   "outputs": [],
   "source": []
  }
 ],
 "metadata": {
  "kernelspec": {
   "display_name": "base",
   "language": "python",
   "name": "python3"
  },
  "language_info": {
   "codemirror_mode": {
    "name": "ipython",
    "version": 3
   },
   "file_extension": ".py",
   "mimetype": "text/x-python",
   "name": "python",
   "nbconvert_exporter": "python",
   "pygments_lexer": "ipython3",
   "version": "3.12.4"
  }
 },
 "nbformat": 4,
 "nbformat_minor": 2
}
