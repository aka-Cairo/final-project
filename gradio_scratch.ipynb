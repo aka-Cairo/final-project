{
 "cells": [
  {
   "cell_type": "code",
   "execution_count": 1,
   "metadata": {},
   "outputs": [
    {
     "name": "stderr",
     "output_type": "stream",
     "text": [
      "c:\\Users\\Matt\\anaconda3\\envs\\final_project\\Lib\\site-packages\\torchvision\\models\\_utils.py:208: UserWarning: The parameter 'pretrained' is deprecated since 0.13 and may be removed in the future, please use 'weights' instead.\n",
      "  warnings.warn(\n",
      "c:\\Users\\Matt\\anaconda3\\envs\\final_project\\Lib\\site-packages\\torchvision\\models\\_utils.py:223: UserWarning: Arguments other than a weight enum or `None` for 'weights' are deprecated since 0.13 and may be removed in the future. The current behavior is equivalent to passing `weights=None`.\n",
      "  warnings.warn(msg)\n",
      "C:\\Users\\Matt\\AppData\\Local\\Temp\\ipykernel_43404\\186120305.py:30: FutureWarning: You are using `torch.load` with `weights_only=False` (the current default value), which uses the default pickle module implicitly. It is possible to construct malicious pickle data which will execute arbitrary code during unpickling (See https://github.com/pytorch/pytorch/blob/main/SECURITY.md#untrusted-models for more details). In a future release, the default value for `weights_only` will be flipped to `True`. This limits the functions that could be executed during unpickling. Arbitrary objects will no longer be allowed to be loaded via this mode unless they are explicitly allowlisted by the user via `torch.serialization.add_safe_globals`. We recommend you start setting `weights_only=True` for any use case where you don't have full control of the loaded file. Please open an issue on GitHub for any issues related to this experimental feature.\n",
      "  state_dict = torch.load('resnet50_scratch.pth')\n"
     ]
    }
   ],
   "source": [
    "import torch\n",
    "import torchvision.models as models\n",
    "import torch.nn as nn\n",
    "from torchvision import transforms\n",
    "from PIL import Image\n",
    "\n",
    "# Define the device\n",
    "device = torch.device('cuda' if torch.cuda.is_available() else 'cpu')\n",
    "\n",
    "# Define the image transformations for grayscale images\n",
    "transform = transforms.Compose([\n",
    "    transforms.Grayscale(num_output_channels=3),  # Convert grayscale to RGB\n",
    "    transforms.Resize((224, 224)),                # Resize to 224x224, standard input size for ResNet\n",
    "    transforms.ToTensor(),                        # Convert image to tensor\n",
    "    transforms.Normalize(mean=[0.485, 0.456, 0.406], std=[0.229, 0.224, 0.225])  # Normalize\n",
    "])\n",
    "\n",
    "# Define function to load and preprocess image\n",
    "def load_image(image_path):\n",
    "    image = Image.open(image_path).convert('RGB')\n",
    "    image = transform(image)\n",
    "    return image.unsqueeze(0)  # Add batch dimension\n",
    "\n",
    "# Define and load the model\n",
    "model = models.resnet50(pretrained=False)\n",
    "num_classes = 14\n",
    "model.fc = nn.Linear(model.fc.in_features, num_classes)\n",
    "\n",
    "# Load and adjust the state dictionary\n",
    "state_dict = torch.load('resnet50_scratch.pth')\n",
    "\n",
    "# If the state_dict keys have a 'resnet.' prefix, remove it\n",
    "new_state_dict = {}\n",
    "for k, v in state_dict.items():\n",
    "    if k.startswith('resnet.'):\n",
    "        new_key = k[len('resnet.'):]\n",
    "        new_state_dict[new_key] = v\n",
    "    else:\n",
    "        new_state_dict[k] = v\n",
    "\n",
    "model.load_state_dict(new_state_dict)\n",
    "model.to(device)\n",
    "model.eval()\n",
    "\n",
    "# Perform inference on an example image\n",
    "image_path = './test2.png'\n",
    "image = load_image(image_path).to(device)\n",
    "\n",
    "with torch.no_grad():\n",
    "    output = model(image)\n",
    "    predictions = torch.sigmoid(output)\n",
    "    predicted_labels = (predictions > 0.5).float()\n"
   ]
  },
  {
   "cell_type": "code",
   "execution_count": 2,
   "metadata": {},
   "outputs": [
    {
     "name": "stdout",
     "output_type": "stream",
     "text": [
      "Atelectasis: Absent\n",
      "Cardiomegaly: Absent\n",
      "Consolidation: Absent\n",
      "Edema: Absent\n",
      "Effusion: Absent\n",
      "Emphysema: Absent\n",
      "Fibrosis: Absent\n",
      "Hernia: Absent\n",
      "Infiltration: Absent\n",
      "Pleural_Thickening: Absent\n",
      "Mass: Absent\n",
      "Nodule: Absent\n",
      "Pneumonia: Absent\n",
      "Pneumothorax: Absent\n"
     ]
    }
   ],
   "source": [
    "# Pathologies\n",
    "pathologies = [\n",
    "    \"Atelectasis\",\n",
    "    \"Cardiomegaly\",\n",
    "    \"Consolidation\",\n",
    "    \"Edema\",\n",
    "    \"Effusion\",\n",
    "    \"Emphysema\",\n",
    "    \"Fibrosis\",\n",
    "    \"Hernia\",\n",
    "    \"Infiltration\",\n",
    "    \"Pleural_Thickening\",\n",
    "    \"Mass\",\n",
    "    \"Nodule\",\n",
    "    \"Pneumonia\",\n",
    "    \"Pneumothorax\"\n",
    "]\n",
    "\n",
    "# Convert predictions to readable format\n",
    "predicted_labels = predicted_labels.squeeze().cpu().numpy()\n",
    "for i, label in enumerate(predicted_labels):\n",
    "    print(f'{pathologies[i]}: {\"Present\" if label else \"Absent\"}')"
   ]
  },
  {
   "cell_type": "code",
   "execution_count": 3,
   "metadata": {},
   "outputs": [
    {
     "name": "stderr",
     "output_type": "stream",
     "text": [
      "c:\\Users\\Matt\\anaconda3\\envs\\final_project\\Lib\\site-packages\\tqdm\\auto.py:21: TqdmWarning: IProgress not found. Please update jupyter and ipywidgets. See https://ipywidgets.readthedocs.io/en/stable/user_install.html\n",
      "  from .autonotebook import tqdm as notebook_tqdm\n",
      "C:\\Users\\Matt\\AppData\\Local\\Temp\\ipykernel_43404\\1280477760.py:45: FutureWarning: You are using `torch.load` with `weights_only=False` (the current default value), which uses the default pickle module implicitly. It is possible to construct malicious pickle data which will execute arbitrary code during unpickling (See https://github.com/pytorch/pytorch/blob/main/SECURITY.md#untrusted-models for more details). In a future release, the default value for `weights_only` will be flipped to `True`. This limits the functions that could be executed during unpickling. Arbitrary objects will no longer be allowed to be loaded via this mode unless they are explicitly allowlisted by the user via `torch.serialization.add_safe_globals`. We recommend you start setting `weights_only=True` for any use case where you don't have full control of the loaded file. Please open an issue on GitHub for any issues related to this experimental feature.\n",
      "  state_dict = torch.load('resnet50_scratch.pth')\n"
     ]
    },
    {
     "name": "stdout",
     "output_type": "stream",
     "text": [
      "Running on local URL:  http://127.0.0.1:7860\n",
      "\n",
      "To create a public link, set `share=True` in `launch()`.\n"
     ]
    },
    {
     "data": {
      "text/html": [
       "<div><iframe src=\"http://127.0.0.1:7860/\" width=\"100%\" height=\"500\" allow=\"autoplay; camera; microphone; clipboard-read; clipboard-write;\" frameborder=\"0\" allowfullscreen></iframe></div>"
      ],
      "text/plain": [
       "<IPython.core.display.HTML object>"
      ]
     },
     "metadata": {},
     "output_type": "display_data"
    },
    {
     "data": {
      "text/plain": []
     },
     "execution_count": 3,
     "metadata": {},
     "output_type": "execute_result"
    }
   ],
   "source": [
    "import gradio as gr\n",
    "import torch\n",
    "from torchvision import models, transforms\n",
    "from PIL import Image\n",
    "import torch.nn as nn\n",
    "\n",
    "# Define the device\n",
    "device = torch.device('cuda' if torch.cuda.is_available() else 'cpu')\n",
    "\n",
    "# Define the image transformations for grayscale images\n",
    "transform = transforms.Compose([\n",
    "    transforms.Grayscale(num_output_channels=3),  # Convert grayscale to RGB\n",
    "    transforms.Resize((224, 224)),                # Resize to 224x224, standard input size for ResNet\n",
    "    transforms.ToTensor(),                        # Convert image to tensor\n",
    "    transforms.Normalize(mean=[0.485, 0.456, 0.406], std=[0.229, 0.224, 0.225])  # Normalize\n",
    "])\n",
    "\n",
    "# Define pathologies\n",
    "pathologies = [\n",
    "    \"Atelectasis\",\n",
    "    \"Cardiomegaly\",\n",
    "    \"Consolidation\",\n",
    "    \"Edema\",\n",
    "    \"Effusion\",\n",
    "    \"Emphysema\",\n",
    "    \"Fibrosis\",\n",
    "    \"Hernia\",\n",
    "    \"Infiltration\",\n",
    "    \"Pleural_Thickening\",\n",
    "    \"Mass\",\n",
    "    \"Nodule\",\n",
    "    \"Pneumonia\",\n",
    "    \"Pneumothorax\"\n",
    "]\n",
    "\n",
    "# # Load the model\n",
    "# model = models.resnet50(pretrained=False)\n",
    "# num_classes = 14\n",
    "# model.fc = nn.Linear(model.fc.in_features, num_classes)\n",
    "# model.load_state_dict(torch.load('resnet50_scratch.pth'))\n",
    "# model.to(device)\n",
    "# model.eval()\n",
    "\n",
    "# Load and adjust the state dictionary\n",
    "state_dict = torch.load('resnet50_scratch.pth')\n",
    "\n",
    "# If the state_dict keys have a 'resnet.' prefix, remove it\n",
    "new_state_dict = {}\n",
    "for k, v in state_dict.items():\n",
    "    if k.startswith('resnet.'):\n",
    "        new_key = k[len('resnet.'):]\n",
    "        new_state_dict[new_key] = v\n",
    "    else:\n",
    "        new_state_dict[k] = v\n",
    "\n",
    "model.load_state_dict(new_state_dict)\n",
    "model.to(device)\n",
    "model.eval()\n",
    "\n",
    "# Define the prediction function\n",
    "def predict(image):\n",
    "    image = Image.fromarray(image).convert('RGB')  # Ensure the image is in RGB format\n",
    "    image = transform(image).unsqueeze(0).to(device)  # Apply transformations and move to GPU\n",
    "    with torch.no_grad():\n",
    "        output = model(image)\n",
    "        predictions = torch.sigmoid(output)\n",
    "        predicted_labels = (predictions > 0.5).float()\n",
    "    result = {pathologies[i]: \"Present\" if predicted_labels[0, i] else \"Absent\" for i in range(num_classes)}\n",
    "    return result\n",
    "\n",
    "# Create the Gradio interface\n",
    "iface = gr.Interface(fn=predict, inputs=gr.Image(type=\"numpy\"), outputs=gr.JSON())\n",
    "iface.launch()\n"
   ]
  }
 ],
 "metadata": {
  "kernelspec": {
   "display_name": "final_project",
   "language": "python",
   "name": "python3"
  },
  "language_info": {
   "codemirror_mode": {
    "name": "ipython",
    "version": 3
   },
   "file_extension": ".py",
   "mimetype": "text/x-python",
   "name": "python",
   "nbconvert_exporter": "python",
   "pygments_lexer": "ipython3",
   "version": "3.12.4"
  }
 },
 "nbformat": 4,
 "nbformat_minor": 2
}
