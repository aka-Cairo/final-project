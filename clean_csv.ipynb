{
 "cells": [
  {
   "cell_type": "code",
   "execution_count": 2,
   "metadata": {},
   "outputs": [
    {
     "name": "stdout",
     "output_type": "stream",
     "text": [
      "Encoded and cleaned CSV saved to ./encoded_labels.csv\n"
     ]
    }
   ],
   "source": [
    "# This block is for converting the provided CSV into a form more suitable for machine learning.\n",
    "\n",
    "import pandas as pd\n",
    "from sklearn.preprocessing import MultiLabelBinarizer\n",
    "\n",
    "def clean_and_encode_csv(input_file, output_file, columns, new_column_names):\n",
    "    \"\"\"\n",
    "    Reads a CSV, selects specified columns, renames them, replaces \"No Finding\" with 0,\n",
    "    replaces pipe separators with commas, encodes labels, and saves to a new CSV.\n",
    "    \"\"\"\n",
    "    try:\n",
    "        # Read and clean the CSV\n",
    "        df = pd.read_csv(input_file)\n",
    "        df_cleaned = df[columns].copy()\n",
    "        df_cleaned.columns = new_column_names\n",
    "        df_cleaned.loc[df_cleaned['labels'] == \"No Finding\", 'labels'] = 0\n",
    "        df_cleaned['labels'] = df_cleaned['labels'].astype(str).str.replace('|', ',', regex=False)\n",
    "        \n",
    "        # Encode labels\n",
    "        label_lists = [label.split(',') if label != '0' else [] for label in df_cleaned['labels']]\n",
    "        mlb = MultiLabelBinarizer()\n",
    "        df_cleaned[new_column_names[1]] = list(mlb.fit_transform(label_lists))\n",
    "\n",
    "        # Save the new DataFrame\n",
    "        df_cleaned.to_csv(output_file, index=False)\n",
    "        print(f\"Encoded and cleaned CSV saved to {output_file}\")\n",
    "    \n",
    "    except Exception as e:\n",
    "        print(f\"An error occurred: {e}\")\n",
    "\n",
    "# Example usage\n",
    "input_file = './sample_labels.csv'\n",
    "output_file = './encoded_labels.csv'\n",
    "columns = ['Image Index', 'Finding Labels']\n",
    "new_column_names = ['index', 'labels']\n",
    "\n",
    "clean_and_encode_csv(input_file, output_file, columns, new_column_names)\n"
   ]
  }
 ],
 "metadata": {
  "kernelspec": {
   "display_name": "base",
   "language": "python",
   "name": "python3"
  },
  "language_info": {
   "codemirror_mode": {
    "name": "ipython",
    "version": 3
   },
   "file_extension": ".py",
   "mimetype": "text/x-python",
   "name": "python",
   "nbconvert_exporter": "python",
   "pygments_lexer": "ipython3",
   "version": "3.12.4"
  }
 },
 "nbformat": 4,
 "nbformat_minor": 2
}
